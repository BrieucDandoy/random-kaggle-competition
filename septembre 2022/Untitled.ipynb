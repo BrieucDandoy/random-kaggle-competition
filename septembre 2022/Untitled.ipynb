{
 "cells": [
  {
   "cell_type": "code",
   "execution_count": 3,
   "id": "31fe1b8d-2d71-4d27-9888-604112af1e37",
   "metadata": {},
   "outputs": [],
   "source": [
    "import numpy as np\n",
    "import pandas as pd\n",
    "import matplotlib.pyplot as plt"
   ]
  },
  {
   "cell_type": "code",
   "execution_count": 4,
   "id": "f1d10f22-bc85-4299-a62c-335e8df2c7cb",
   "metadata": {},
   "outputs": [],
   "source": [
    "df = pd.read_csv(\"train.csv\",index_col = 'date', parse_dates = True)\n",
    "df_test = pd.read_csv(\"test.csv\",index_col = 'date', parse_dates = True)"
   ]
  },
  {
   "cell_type": "code",
   "execution_count": 5,
   "id": "a09ac1c5-689a-4ac2-8708-8f10c38f16b7",
   "metadata": {},
   "outputs": [],
   "source": [
    "dfc = df.groupby(['product','date']).sum()/df.groupby(['date']).sum()"
   ]
  },
  {
   "cell_type": "code",
   "execution_count": 8,
   "id": "665807a9-59c7-461b-9b78-077689337ef5",
   "metadata": {},
   "outputs": [
    {
     "data": {
      "text/html": [
       "<div>\n",
       "<style scoped>\n",
       "    .dataframe tbody tr th:only-of-type {\n",
       "        vertical-align: middle;\n",
       "    }\n",
       "\n",
       "    .dataframe tbody tr th {\n",
       "        vertical-align: top;\n",
       "    }\n",
       "\n",
       "    .dataframe thead th {\n",
       "        text-align: right;\n",
       "    }\n",
       "</style>\n",
       "<table border=\"1\" class=\"dataframe\">\n",
       "  <thead>\n",
       "    <tr style=\"text-align: right;\">\n",
       "      <th></th>\n",
       "      <th></th>\n",
       "      <th>row_id</th>\n",
       "      <th>num_sold</th>\n",
       "    </tr>\n",
       "    <tr>\n",
       "      <th>product</th>\n",
       "      <th>date</th>\n",
       "      <th></th>\n",
       "      <th></th>\n",
       "    </tr>\n",
       "  </thead>\n",
       "  <tbody>\n",
       "    <tr>\n",
       "      <th rowspan=\"5\" valign=\"top\">Kaggle Advanced Techniques</th>\n",
       "      <th>2017-01-01</th>\n",
       "      <td>0.234043</td>\n",
       "      <td>0.277944</td>\n",
       "    </tr>\n",
       "    <tr>\n",
       "      <th>2017-01-02</th>\n",
       "      <td>0.244755</td>\n",
       "      <td>0.280014</td>\n",
       "    </tr>\n",
       "    <tr>\n",
       "      <th>2017-01-03</th>\n",
       "      <td>0.246862</td>\n",
       "      <td>0.291529</td>\n",
       "    </tr>\n",
       "    <tr>\n",
       "      <th>2017-01-04</th>\n",
       "      <td>0.247761</td>\n",
       "      <td>0.282240</td>\n",
       "    </tr>\n",
       "    <tr>\n",
       "      <th>2017-01-05</th>\n",
       "      <td>0.248260</td>\n",
       "      <td>0.283104</td>\n",
       "    </tr>\n",
       "    <tr>\n",
       "      <th>...</th>\n",
       "      <th>...</th>\n",
       "      <td>...</td>\n",
       "      <td>...</td>\n",
       "    </tr>\n",
       "    <tr>\n",
       "      <th rowspan=\"5\" valign=\"top\">Kaggle for Kids: One Smart Goose</th>\n",
       "      <th>2020-12-27</th>\n",
       "      <td>0.250005</td>\n",
       "      <td>0.306537</td>\n",
       "    </tr>\n",
       "    <tr>\n",
       "      <th>2020-12-28</th>\n",
       "      <td>0.250005</td>\n",
       "      <td>0.306332</td>\n",
       "    </tr>\n",
       "    <tr>\n",
       "      <th>2020-12-29</th>\n",
       "      <td>0.250005</td>\n",
       "      <td>0.308699</td>\n",
       "    </tr>\n",
       "    <tr>\n",
       "      <th>2020-12-30</th>\n",
       "      <td>0.250005</td>\n",
       "      <td>0.300929</td>\n",
       "    </tr>\n",
       "    <tr>\n",
       "      <th>2020-12-31</th>\n",
       "      <td>0.250005</td>\n",
       "      <td>0.292525</td>\n",
       "    </tr>\n",
       "  </tbody>\n",
       "</table>\n",
       "<p>5844 rows × 2 columns</p>\n",
       "</div>"
      ],
      "text/plain": [
       "                                               row_id  num_sold\n",
       "product                          date                          \n",
       "Kaggle Advanced Techniques       2017-01-01  0.234043  0.277944\n",
       "                                 2017-01-02  0.244755  0.280014\n",
       "                                 2017-01-03  0.246862  0.291529\n",
       "                                 2017-01-04  0.247761  0.282240\n",
       "                                 2017-01-05  0.248260  0.283104\n",
       "...                                               ...       ...\n",
       "Kaggle for Kids: One Smart Goose 2020-12-27  0.250005  0.306537\n",
       "                                 2020-12-28  0.250005  0.306332\n",
       "                                 2020-12-29  0.250005  0.308699\n",
       "                                 2020-12-30  0.250005  0.300929\n",
       "                                 2020-12-31  0.250005  0.292525\n",
       "\n",
       "[5844 rows x 2 columns]"
      ]
     },
     "execution_count": 8,
     "metadata": {},
     "output_type": "execute_result"
    }
   ],
   "source": [
    "dfc"
   ]
  },
  {
   "cell_type": "code",
   "execution_count": null,
   "id": "58919a27-59a2-48d7-8b2b-34f850bf221b",
   "metadata": {},
   "outputs": [],
   "source": []
  }
 ],
 "metadata": {
  "kernelspec": {
   "display_name": "Python 3 (ipykernel)",
   "language": "python",
   "name": "python3"
  },
  "language_info": {
   "codemirror_mode": {
    "name": "ipython",
    "version": 3
   },
   "file_extension": ".py",
   "mimetype": "text/x-python",
   "name": "python",
   "nbconvert_exporter": "python",
   "pygments_lexer": "ipython3",
   "version": "3.9.12"
  }
 },
 "nbformat": 4,
 "nbformat_minor": 5
}
