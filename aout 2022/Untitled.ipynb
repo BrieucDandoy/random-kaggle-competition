{
 "cells": [
  {
   "cell_type": "code",
   "execution_count": 16,
   "id": "e9377467",
   "metadata": {},
   "outputs": [],
   "source": [
    "import pandas as pd\n",
    "import numpy as np\n",
    "from sklearn.model_selection import train_test_split\n",
    "from sklearn.impute import SimpleImputer\n",
    "import seaborn as sb"
   ]
  },
  {
   "cell_type": "code",
   "execution_count": 17,
   "id": "506fe039",
   "metadata": {},
   "outputs": [
    {
     "name": "stdout",
     "output_type": "stream",
     "text": [
      "['material_7', 'material_7', 'material_7', 'material_7', 'material_7', ..., 'material_7', 'material_7', 'material_7', 'material_7', 'material_7']\n",
      "Length: 26570\n",
      "Categories (2, object): ['material_5', 'material_7']\n",
      "['material_5', 'material_5', 'material_5', 'material_5', 'material_5', ..., 'material_7', 'material_7', 'material_7', 'material_7', 'material_7']\n",
      "Length: 20775\n",
      "Categories (2, object): ['material_5', 'material_7']\n"
     ]
    }
   ],
   "source": [
    "train = pd.read_csv(\"train.csv\")\n",
    "test  = pd.read_csv(\"test.csv\")\n",
    "submission = pd.read_csv(\"sample_submission.csv\")\n",
    "\n",
    "print(pd.Categorical(train[\"attribute_0\"]))\n",
    "print(pd.Categorical(test[\"attribute_0\"]))"
   ]
  },
  {
   "cell_type": "code",
   "execution_count": 18,
   "id": "6d8e4fc9",
   "metadata": {},
   "outputs": [],
   "source": [
    "train = train.drop([\"id\",\"product_code\",\"attribute_2\",\"attribute_1\"], axis = 1)\n",
    "test = test.drop([\"id\",\"product_code\",\"attribute_2\",\"attribute_1\"], axis = 1)"
   ]
  },
  {
   "cell_type": "code",
   "execution_count": 19,
   "id": "bf57ba13",
   "metadata": {
    "tags": []
   },
   "outputs": [],
   "source": [
    "train = pd.get_dummies(train)"
   ]
  },
  {
   "cell_type": "code",
   "execution_count": 21,
   "id": "ff5acd6e-9246-4d93-9999-a48f4d539066",
   "metadata": {},
   "outputs": [
    {
     "data": {
      "image/png": "[encoded data removed]",
      "text/plain": [
       "<Figure size 432x288 with 2 Axes>"
      ]
     },
     "metadata": {
      "needs_background": "light"
     },
     "output_type": "display_data"
    }
   ],
   "source": [
    "correlation = train.corr()\n",
    "dataplot = sb.heatmap(correlation, cmap=\"YlGnBu\", annot=False)"
   ]
  },
  {
   "cell_type": "code",
   "execution_count": 41,
   "id": "b0a4727e",
   "metadata": {},
   "outputs": [
    {
     "name": "stdout",
     "output_type": "stream",
     "text": [
      "(26570, 22)\n",
      "(20775, 22)\n"
     ]
    }
   ],
   "source": [
    "labels = np.array(train[\"failure\"])\n",
    "features = train.drop(\"failure\",axis = 1)\n",
    "feature_names = list(features.columns)\n",
    "features = np.array(features)\n",
    "\n",
    "listeName = \n",
    "\n",
    "def select_column(name,threshold):\n",
    "    liste_tmp = []\n",
    "    for col in listeName:\n",
    "        if abs(correlation[name][col])>threshold:\n",
    "            liste_tmp.append(col)\n",
    "    liste_tmp.remove(name)\n",
    "    liste_tmp.append(name)\n",
    "    return liste_tmp\n",
    "\n",
    "\n",
    "\n",
    "\n",
    "\n",
    "test = pd.get_dummies(test)\n",
    "test = np.array(test)\n",
    "test = imp_mean.fit_transform(test)\n",
    "\n",
    "\n",
    "print(features.shape)\n",
    "print(test.shape)"
   ]
  },
  {
   "cell_type": "code",
   "execution_count": 42,
   "id": "170a76c1-918b-4bf0-ac54-7ce2e212f22e",
   "metadata": {},
   "outputs": [],
   "source": [
    "train_features, test_features, train_labels, test_labels = train_test_split(features, labels, test_size = 0.10)"
   ]
  },
  {
   "cell_type": "code",
   "execution_count": 43,
   "id": "db007928-e836-48e0-9bdc-6da40003ef32",
   "metadata": {},
   "outputs": [
    {
     "name": "stdout",
     "output_type": "stream",
     "text": [
      "[[ 85.1     9.      5.    ... 606.373   0.      1.   ]\n",
      " [122.8     8.      5.    ... 843.261   0.      1.   ]\n",
      " [117.06    6.     10.    ... 834.699   0.      1.   ]\n",
      " ...\n",
      " [173.11    9.      7.    ... 922.329   0.      1.   ]\n",
      " [149.38    8.     12.    ... 664.724   0.      1.   ]\n",
      " [143.97    8.      9.    ... 686.261   1.      0.   ]]\n"
     ]
    }
   ],
   "source": [
    "print(train_features)"
   ]
  },
  {
   "cell_type": "code",
   "execution_count": 44,
   "id": "9e6fe2d9-1780-4131-bfc3-3e7a5322f731",
   "metadata": {},
   "outputs": [],
   "source": [
    "from sklearn.ensemble import RandomForestRegressor\n",
    "rf = RandomForestRegressor(n_estimators = 1000, random_state = 42)\n",
    "rf.fit(train_features, train_labels);"
   ]
  },
  {
   "cell_type": "code",
   "execution_count": 45,
   "id": "fab37771-3d7d-4330-9ba0-2f6a27d106e9",
   "metadata": {},
   "outputs": [],
   "source": [
    "predictions = rf.predict(test_features)\n",
    "errors = abs(predictions - test_labels)"
   ]
  },
  {
   "cell_type": "code",
   "execution_count": 46,
   "id": "2bd65335-9ba7-40d1-8b7f-bdc8a298d59b",
   "metadata": {},
   "outputs": [
    {
     "name": "stdout",
     "output_type": "stream",
     "text": [
      "0.22544222807677833\n"
     ]
    }
   ],
   "source": [
    "error = abs(predictions.round()-test_labels)\n",
    "print(error.sum()/len(error))"
   ]
  },
  {
   "cell_type": "code",
   "execution_count": null,
   "id": "c29d45f6-f01b-4d60-8e69-41c60966f545",
   "metadata": {},
   "outputs": [],
   "source": []
  },
  {
   "cell_type": "code",
   "execution_count": 47,
   "id": "6475b04f-560d-4bef-adb4-256c9c8684c6",
   "metadata": {},
   "outputs": [],
   "source": [
    "result = rf.predict(test).round()"
   ]
  },
  {
   "cell_type": "code",
   "execution_count": 50,
   "id": "64b6aee9-f226-4f78-b4f7-85fbe46c2998",
   "metadata": {},
   "outputs": [
    {
     "name": "stdout",
     "output_type": "stream",
     "text": [
      "          id  failure\n",
      "0      26570      0.0\n",
      "1      26571      0.0\n",
      "2      26572      0.0\n",
      "3      26573      0.0\n",
      "4      26574      0.0\n",
      "...      ...      ...\n",
      "20770  47340      0.0\n",
      "20771  47341      0.0\n",
      "20772  47342      0.0\n",
      "20773  47343      0.0\n",
      "20774  47344      0.0\n",
      "\n",
      "[20775 rows x 2 columns]\n"
     ]
    }
   ],
   "source": [
    "submission[\"failure\"] = result\n",
    "print(submission)\n"
   ]
  },
  {
   "cell_type": "code",
   "execution_count": 51,
   "id": "3c1b4cee-ef10-4dac-bcc9-d1226118c14b",
   "metadata": {},
   "outputs": [],
   "source": [
    "submission.to_csv(\"result2.csv\",index=False)"
   ]
  },
  {
   "cell_type": "code",
   "execution_count": null,
   "id": "98819ea6-5e96-46f4-b511-85f3e2921e6c",
   "metadata": {},
   "outputs": [],
   "source": []
  }
 ],
 "metadata": {
  "kernelspec": {
   "display_name": "Python 3 (ipykernel)",
   "language": "python",
   "name": "python3"
  },
  "language_info": {
   "codemirror_mode": {
    "name": "ipython",
    "version": 3
   },
   "file_extension": ".py",
   "mimetype": "text/x-python",
   "name": "python",
   "nbconvert_exporter": "python",
   "pygments_lexer": "ipython3",
   "version": "3.9.12"
  }
 },
 "nbformat": 4,
 "nbformat_minor": 5
}
