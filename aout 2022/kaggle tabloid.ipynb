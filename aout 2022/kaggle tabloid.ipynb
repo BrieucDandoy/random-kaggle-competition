{
 "cells": [
  {
   "cell_type": "code",
   "execution_count": 1,
   "metadata": {},
   "outputs": [],
   "source": [
    "import numpy as np\n",
    "import pandas as pd\n",
    "from pathlib import Path\n",
    "from tqdm import tqdm\n",
    "import xgboost\n",
    "import seaborn as sns\n",
    "import matplotlib.pyplot as plt\n",
    "import matplotlib\n",
    "\n",
    "\n",
    "from sklearn.feature_selection import SelectKBest\n",
    "from sklearn.impute import SimpleImputer\n",
    "from sklearn.experimental import enable_iterative_imputer\n",
    "from sklearn.impute import IterativeImputer"
   ]
  },
  {
   "cell_type": "code",
   "execution_count": 2,
   "metadata": {},
   "outputs": [],
   "source": [
    "data = pd.read_csv('data/data.csv', index_col='row_id')\n",
    "submission = pd.read_csv('result/sample_submission.csv', index_col='row-col')"
   ]
  },
  {
   "cell_type": "code",
   "execution_count": 3,
   "metadata": {},
   "outputs": [
    {
     "data": {
      "text/plain": [
       "<AxesSubplot:>"
      ]
     },
     "execution_count": 3,
     "metadata": {},
     "output_type": "execute_result"
    },
    {
     "data": {
      "image/png": "[encoded data removed]",
      "text/plain": [
       "<Figure size 432x288 with 2 Axes>"
      ]
     },
     "metadata": {
      "needs_background": "light"
     },
     "output_type": "display_data"
    }
   ],
   "source": [
    "sns.heatmap(data.corr())"
   ]
  },
  {
   "cell_type": "markdown",
   "metadata": {},
   "source": [
    "1) split in 4 groups\n",
    "2) group 1 : replace by mean\n",
    "3) group 2 : no missing data\n",
    "4) group 3 : replace by mean\n",
    "5) group 4 : fill with xgboost"
   ]
  },
  {
   "cell_type": "code",
   "execution_count": 4,
   "metadata": {},
   "outputs": [],
   "source": [
    "for col in data.columns:\n",
    "    if \"F_4\" not in col:\n",
    "        data[col] = data[col].fillna(data[col].mean())"
   ]
  },
  {
   "cell_type": "code",
   "execution_count": 5,
   "metadata": {},
   "outputs": [
    {
     "name": "stdout",
     "output_type": "stream",
     "text": [
      "['F_4_0', 'F_4_1', 'F_4_2', 'F_4_3', 'F_4_4', 'F_4_5', 'F_4_6', 'F_4_7', 'F_4_8', 'F_4_9', 'F_4_10', 'F_4_11', 'F_4_12', 'F_4_13', 'F_4_14']\n"
     ]
    }
   ],
   "source": [
    "listeF_4 = []\n",
    "listeF_4content = []\n",
    "for col in data.columns:\n",
    "    if 'F_4' in col:\n",
    "        listeF_4.append(col)\n",
    "f4data = data[listeF_4]\n",
    "\n",
    "print(listeF_4)\n",
    "listeF_4Result = []"
   ]
  },
  {
   "cell_type": "code",
   "execution_count": 6,
   "metadata": {},
   "outputs": [
    {
     "name": "stdout",
     "output_type": "stream",
     "text": [
      "['F_4_0', 'F_4_1', 'F_4_2', 'F_4_3', 'F_4_4', 'F_4_5', 'F_4_6', 'F_4_7', 'F_4_8', 'F_4_9', 'F_4_10', 'F_4_11', 'F_4_12', 'F_4_13', 'F_4_14']\n"
     ]
    },
    {
     "data": {
      "text/plain": [
       "['F_4_3', 'F_4_11', 'F_4_12', 'F_4_1']"
      ]
     },
     "execution_count": 6,
     "metadata": {},
     "output_type": "execute_result"
    }
   ],
   "source": [
    "correlation=f4data.corr()\n",
    "\n",
    "def select_column(name,threshold):\n",
    "    liste_tmp = []\n",
    "    for col in listeF_4:\n",
    "        if abs(correlation[name][col])>threshold:\n",
    "            liste_tmp.append(col)\n",
    "    liste_tmp.remove(name)\n",
    "    liste_tmp.append(name)\n",
    "    return liste_tmp\n",
    "\n",
    "print(listeF_4)\n",
    "select_column(\"F_4_0\",0.15)\n",
    "select_column(\"F_4_1\",0.15)"
   ]
  },
  {
   "cell_type": "code",
   "execution_count": 7,
   "metadata": {},
   "outputs": [],
   "source": [
    "iimp = IterativeImputer(\n",
    "    estimator = xgboost.XGBRegressor(),\n",
    "    random_state = 42,\n",
    "    verbose = 20,\n",
    "    max_iter=10\n",
    ")\n",
    "\n",
    "def fill_column(name,liste):\n",
    "    final = (iimp.fit_transform(data[liste]))\n",
    "    listeF_4content.append(final.T[-1])\n",
    "    return final"
   ]
  },
  {
   "cell_type": "code",
   "execution_count": 8,
   "metadata": {},
   "outputs": [
    {
     "data": {
      "text/plain": [
       "['F_4_3', 'F_4_11', 'F_4_12', 'F_4_1']"
      ]
     },
     "execution_count": 8,
     "metadata": {},
     "output_type": "execute_result"
    }
   ],
   "source": [
    "select_column(\"F_4_0\",0.15)\n",
    "select_column(\"F_4_1\",0.15)"
   ]
  },
  {
   "cell_type": "code",
   "execution_count": 9,
   "metadata": {},
   "outputs": [
    {
     "name": "stdout",
     "output_type": "stream",
     "text": [
      "[IterativeImputer] Completing matrix with shape (1000000, 3)\n",
      "[IterativeImputer] Ending imputation round 1/10, elapsed time 86.10\n",
      "[IterativeImputer] Change: 4.779046097556964, scaled tolerance: 0.012878366 \n",
      "[IterativeImputer] Ending imputation round 2/10, elapsed time 176.18\n",
      "[IterativeImputer] Change: 1.7915469408035278, scaled tolerance: 0.012878366 \n",
      "[IterativeImputer] Ending imputation round 3/10, elapsed time 269.26\n",
      "[IterativeImputer] Change: 1.9738725423812866, scaled tolerance: 0.012878366 \n",
      "[IterativeImputer] Ending imputation round 4/10, elapsed time 358.53\n",
      "[IterativeImputer] Change: 1.8656246662139893, scaled tolerance: 0.012878366 \n",
      "[IterativeImputer] Ending imputation round 5/10, elapsed time 444.72\n",
      "[IterativeImputer] Change: 1.7232788652181625, scaled tolerance: 0.012878366 \n",
      "[IterativeImputer] Ending imputation round 6/10, elapsed time 530.92\n",
      "[IterativeImputer] Change: 1.9256418347358704, scaled tolerance: 0.012878366 \n",
      "[IterativeImputer] Ending imputation round 7/10, elapsed time 616.51\n",
      "[IterativeImputer] Change: 2.170520544052124, scaled tolerance: 0.012878366 \n",
      "[IterativeImputer] Ending imputation round 8/10, elapsed time 702.50\n",
      "[IterativeImputer] Change: 2.020509362220764, scaled tolerance: 0.012878366 \n",
      "[IterativeImputer] Ending imputation round 9/10, elapsed time 788.36\n",
      "[IterativeImputer] Change: 1.8844633102416992, scaled tolerance: 0.012878366 \n",
      "[IterativeImputer] Ending imputation round 10/10, elapsed time 874.38\n",
      "[IterativeImputer] Change: 2.0954365730285645, scaled tolerance: 0.012878366 \n",
      "[IterativeImputer] Completing matrix with shape (1000000, 4)\n"
     ]
    },
    {
     "name": "stderr",
     "output_type": "stream",
     "text": [
      "C:\\Users\\brieu\\anaconda3\\lib\\site-packages\\sklearn\\impute\\_iterative.py:685: ConvergenceWarning: [IterativeImputer] Early stopping criterion not reached.\n",
      "  warnings.warn(\"[IterativeImputer] Early stopping criterion not\"\n"
     ]
    },
    {
     "name": "stdout",
     "output_type": "stream",
     "text": [
      "[IterativeImputer] Ending imputation round 1/10, elapsed time 120.51\n",
      "[IterativeImputer] Change: 13.652211412377248, scaled tolerance: 0.031229363 \n",
      "[IterativeImputer] Ending imputation round 2/10, elapsed time 241.35\n",
      "[IterativeImputer] Change: 7.0979297161102295, scaled tolerance: 0.031229363 \n",
      "[IterativeImputer] Ending imputation round 3/10, elapsed time 362.01\n",
      "[IterativeImputer] Change: 4.429364204406738, scaled tolerance: 0.031229363 \n",
      "[IterativeImputer] Ending imputation round 4/10, elapsed time 482.60\n",
      "[IterativeImputer] Change: 3.2178797721862793, scaled tolerance: 0.031229363 \n",
      "[IterativeImputer] Ending imputation round 5/10, elapsed time 603.26\n",
      "[IterativeImputer] Change: 4.266018390655518, scaled tolerance: 0.031229363 \n",
      "[IterativeImputer] Ending imputation round 6/10, elapsed time 724.03\n",
      "[IterativeImputer] Change: 6.9888527393341064, scaled tolerance: 0.031229363 \n",
      "[IterativeImputer] Ending imputation round 7/10, elapsed time 845.90\n",
      "[IterativeImputer] Change: 3.717424988746643, scaled tolerance: 0.031229363 \n",
      "[IterativeImputer] Ending imputation round 8/10, elapsed time 967.50\n",
      "[IterativeImputer] Change: 4.068078743293881, scaled tolerance: 0.031229363 \n",
      "[IterativeImputer] Ending imputation round 9/10, elapsed time 1088.88\n",
      "[IterativeImputer] Change: 3.6427881717681885, scaled tolerance: 0.031229363 \n",
      "[IterativeImputer] Ending imputation round 10/10, elapsed time 1209.84\n",
      "[IterativeImputer] Change: 3.959563732147217, scaled tolerance: 0.031229363 \n"
     ]
    },
    {
     "name": "stderr",
     "output_type": "stream",
     "text": [
      "C:\\Users\\brieu\\anaconda3\\lib\\site-packages\\sklearn\\impute\\_iterative.py:685: ConvergenceWarning: [IterativeImputer] Early stopping criterion not reached.\n",
      "  warnings.warn(\"[IterativeImputer] Early stopping criterion not\"\n"
     ]
    },
    {
     "name": "stdout",
     "output_type": "stream",
     "text": [
      "[IterativeImputer] Completing matrix with shape (1000000, 6)\n",
      "[IterativeImputer] Ending imputation round 1/10, elapsed time 318.52\n",
      "[IterativeImputer] Change: 17.999648233013154, scaled tolerance: 0.031229363 \n",
      "[IterativeImputer] Ending imputation round 2/10, elapsed time 639.01\n",
      "[IterativeImputer] Change: 6.955639440566301, scaled tolerance: 0.031229363 \n",
      "[IterativeImputer] Ending imputation round 3/10, elapsed time 960.29\n",
      "[IterativeImputer] Change: 4.9329705238342285, scaled tolerance: 0.031229363 \n",
      "[IterativeImputer] Ending imputation round 4/10, elapsed time 1281.88\n",
      "[IterativeImputer] Change: 4.381627798080444, scaled tolerance: 0.031229363 \n",
      "[IterativeImputer] Ending imputation round 5/10, elapsed time 1604.50\n",
      "[IterativeImputer] Change: 4.688612222671509, scaled tolerance: 0.031229363 \n",
      "[IterativeImputer] Ending imputation round 6/10, elapsed time 1942.49\n",
      "[IterativeImputer] Change: 5.727038860321045, scaled tolerance: 0.031229363 \n",
      "[IterativeImputer] Ending imputation round 7/10, elapsed time 2264.52\n",
      "[IterativeImputer] Change: 5.264606952667236, scaled tolerance: 0.031229363 \n",
      "[IterativeImputer] Ending imputation round 8/10, elapsed time 2586.48\n",
      "[IterativeImputer] Change: 6.0872228145599365, scaled tolerance: 0.031229363 \n",
      "[IterativeImputer] Ending imputation round 9/10, elapsed time 2905.33\n",
      "[IterativeImputer] Change: 5.146220684051514, scaled tolerance: 0.031229363 \n",
      "[IterativeImputer] Ending imputation round 10/10, elapsed time 3226.67\n",
      "[IterativeImputer] Change: 6.04147207736969, scaled tolerance: 0.031229363 \n"
     ]
    },
    {
     "name": "stderr",
     "output_type": "stream",
     "text": [
      "C:\\Users\\brieu\\anaconda3\\lib\\site-packages\\sklearn\\impute\\_iterative.py:685: ConvergenceWarning: [IterativeImputer] Early stopping criterion not reached.\n",
      "  warnings.warn(\"[IterativeImputer] Early stopping criterion not\"\n"
     ]
    },
    {
     "name": "stdout",
     "output_type": "stream",
     "text": [
      "[IterativeImputer] Completing matrix with shape (1000000, 5)\n",
      "[IterativeImputer] Ending imputation round 1/10, elapsed time 161.14\n",
      "[IterativeImputer] Change: 14.255500062889944, scaled tolerance: 0.031229363 \n",
      "[IterativeImputer] Ending imputation round 2/10, elapsed time 324.55\n",
      "[IterativeImputer] Change: 5.090968132019043, scaled tolerance: 0.031229363 \n",
      "[IterativeImputer] Ending imputation round 3/10, elapsed time 486.73\n",
      "[IterativeImputer] Change: 5.464149713516235, scaled tolerance: 0.031229363 \n",
      "[IterativeImputer] Ending imputation round 4/10, elapsed time 648.36\n",
      "[IterativeImputer] Change: 3.966747283935547, scaled tolerance: 0.031229363 \n",
      "[IterativeImputer] Ending imputation round 5/10, elapsed time 811.02\n",
      "[IterativeImputer] Change: 5.697142601013184, scaled tolerance: 0.031229363 \n",
      "[IterativeImputer] Ending imputation round 6/10, elapsed time 973.20\n",
      "[IterativeImputer] Change: 5.208116888999939, scaled tolerance: 0.031229363 \n",
      "[IterativeImputer] Ending imputation round 7/10, elapsed time 1135.30\n",
      "[IterativeImputer] Change: 3.869920253753662, scaled tolerance: 0.031229363 \n",
      "[IterativeImputer] Ending imputation round 8/10, elapsed time 1297.45\n",
      "[IterativeImputer] Change: 5.808774471282959, scaled tolerance: 0.031229363 \n",
      "[IterativeImputer] Ending imputation round 9/10, elapsed time 1459.29\n",
      "[IterativeImputer] Change: 4.409393310546875, scaled tolerance: 0.031229363 \n",
      "[IterativeImputer] Ending imputation round 10/10, elapsed time 1622.93\n",
      "[IterativeImputer] Change: 5.325188517570496, scaled tolerance: 0.031229363 \n"
     ]
    },
    {
     "name": "stderr",
     "output_type": "stream",
     "text": [
      "C:\\Users\\brieu\\anaconda3\\lib\\site-packages\\sklearn\\impute\\_iterative.py:685: ConvergenceWarning: [IterativeImputer] Early stopping criterion not reached.\n",
      "  warnings.warn(\"[IterativeImputer] Early stopping criterion not\"\n"
     ]
    },
    {
     "name": "stdout",
     "output_type": "stream",
     "text": [
      "[IterativeImputer] Completing matrix with shape (1000000, 4)\n",
      "[IterativeImputer] Ending imputation round 1/10, elapsed time 121.04\n",
      "[IterativeImputer] Change: 10.331817765789033, scaled tolerance: 0.031229363 \n",
      "[IterativeImputer] Ending imputation round 2/10, elapsed time 244.66\n",
      "[IterativeImputer] Change: 4.349950671195984, scaled tolerance: 0.031229363 \n",
      "[IterativeImputer] Ending imputation round 3/10, elapsed time 366.10\n",
      "[IterativeImputer] Change: 4.585565805435181, scaled tolerance: 0.031229363 \n",
      "[IterativeImputer] Ending imputation round 4/10, elapsed time 495.72\n",
      "[IterativeImputer] Change: 3.872589647769928, scaled tolerance: 0.031229363 \n",
      "[IterativeImputer] Ending imputation round 5/10, elapsed time 629.93\n",
      "[IterativeImputer] Change: 2.9855000972747803, scaled tolerance: 0.031229363 \n",
      "[IterativeImputer] Ending imputation round 6/10, elapsed time 751.65\n",
      "[IterativeImputer] Change: 4.304043412208557, scaled tolerance: 0.031229363 \n",
      "[IterativeImputer] Ending imputation round 7/10, elapsed time 873.68\n",
      "[IterativeImputer] Change: 3.5680668354034424, scaled tolerance: 0.031229363 \n",
      "[IterativeImputer] Ending imputation round 8/10, elapsed time 995.20\n",
      "[IterativeImputer] Change: 4.928579926490784, scaled tolerance: 0.031229363 \n",
      "[IterativeImputer] Ending imputation round 9/10, elapsed time 1117.88\n",
      "[IterativeImputer] Change: 5.369842052459717, scaled tolerance: 0.031229363 \n",
      "[IterativeImputer] Ending imputation round 10/10, elapsed time 1239.23\n",
      "[IterativeImputer] Change: 4.050812244415283, scaled tolerance: 0.031229363 \n"
     ]
    },
    {
     "name": "stderr",
     "output_type": "stream",
     "text": [
      "C:\\Users\\brieu\\anaconda3\\lib\\site-packages\\sklearn\\impute\\_iterative.py:685: ConvergenceWarning: [IterativeImputer] Early stopping criterion not reached.\n",
      "  warnings.warn(\"[IterativeImputer] Early stopping criterion not\"\n"
     ]
    },
    {
     "name": "stdout",
     "output_type": "stream",
     "text": [
      "[IterativeImputer] Completing matrix with shape (1000000, 5)\n",
      "[IterativeImputer] Ending imputation round 1/10, elapsed time 160.02\n",
      "[IterativeImputer] Change: 17.470187326030732, scaled tolerance: 0.031229363 \n",
      "[IterativeImputer] Ending imputation round 2/10, elapsed time 322.35\n",
      "[IterativeImputer] Change: 5.9588727951049805, scaled tolerance: 0.031229363 \n",
      "[IterativeImputer] Ending imputation round 3/10, elapsed time 484.55\n",
      "[IterativeImputer] Change: 3.615832209587097, scaled tolerance: 0.031229363 \n",
      "[IterativeImputer] Ending imputation round 4/10, elapsed time 646.60\n",
      "[IterativeImputer] Change: 4.196232914924622, scaled tolerance: 0.031229363 \n",
      "[IterativeImputer] Ending imputation round 5/10, elapsed time 808.09\n",
      "[IterativeImputer] Change: 4.557883262634277, scaled tolerance: 0.031229363 \n",
      "[IterativeImputer] Ending imputation round 6/10, elapsed time 969.35\n",
      "[IterativeImputer] Change: 4.159428298473358, scaled tolerance: 0.031229363 \n",
      "[IterativeImputer] Ending imputation round 7/10, elapsed time 1130.81\n",
      "[IterativeImputer] Change: 3.539529800415039, scaled tolerance: 0.031229363 \n",
      "[IterativeImputer] Ending imputation round 8/10, elapsed time 1292.74\n",
      "[IterativeImputer] Change: 5.225456655025482, scaled tolerance: 0.031229363 \n",
      "[IterativeImputer] Ending imputation round 9/10, elapsed time 1454.66\n",
      "[IterativeImputer] Change: 5.26748651266098, scaled tolerance: 0.031229363 \n",
      "[IterativeImputer] Ending imputation round 10/10, elapsed time 1616.11\n",
      "[IterativeImputer] Change: 3.9098663330078125, scaled tolerance: 0.031229363 \n"
     ]
    },
    {
     "name": "stderr",
     "output_type": "stream",
     "text": [
      "C:\\Users\\brieu\\anaconda3\\lib\\site-packages\\sklearn\\impute\\_iterative.py:685: ConvergenceWarning: [IterativeImputer] Early stopping criterion not reached.\n",
      "  warnings.warn(\"[IterativeImputer] Early stopping criterion not\"\n"
     ]
    },
    {
     "name": "stdout",
     "output_type": "stream",
     "text": [
      "[IterativeImputer] Completing matrix with shape (1000000, 3)\n",
      "[IterativeImputer] Ending imputation round 1/10, elapsed time 85.34\n",
      "[IterativeImputer] Change: 4.697985211173908, scaled tolerance: 0.012825041 \n",
      "[IterativeImputer] Ending imputation round 2/10, elapsed time 171.13\n",
      "[IterativeImputer] Change: 2.5405063033103943, scaled tolerance: 0.012825041 \n",
      "[IterativeImputer] Ending imputation round 3/10, elapsed time 256.52\n",
      "[IterativeImputer] Change: 2.0646137595176697, scaled tolerance: 0.012825041 \n",
      "[IterativeImputer] Ending imputation round 4/10, elapsed time 342.41\n",
      "[IterativeImputer] Change: 2.118062525987625, scaled tolerance: 0.012825041 \n",
      "[IterativeImputer] Ending imputation round 5/10, elapsed time 429.85\n",
      "[IterativeImputer] Change: 1.9101808071136475, scaled tolerance: 0.012825041 \n",
      "[IterativeImputer] Ending imputation round 6/10, elapsed time 515.72\n",
      "[IterativeImputer] Change: 2.092120200395584, scaled tolerance: 0.012825041 \n",
      "[IterativeImputer] Ending imputation round 7/10, elapsed time 601.75\n",
      "[IterativeImputer] Change: 1.9544224739074707, scaled tolerance: 0.012825041 \n",
      "[IterativeImputer] Ending imputation round 8/10, elapsed time 687.29\n",
      "[IterativeImputer] Change: 2.168683171272278, scaled tolerance: 0.012825041 \n",
      "[IterativeImputer] Ending imputation round 9/10, elapsed time 772.73\n",
      "[IterativeImputer] Change: 1.9336277097463608, scaled tolerance: 0.012825041 \n",
      "[IterativeImputer] Ending imputation round 10/10, elapsed time 858.32\n",
      "[IterativeImputer] Change: 1.9555766582489014, scaled tolerance: 0.012825041 \n"
     ]
    },
    {
     "name": "stderr",
     "output_type": "stream",
     "text": [
      "C:\\Users\\brieu\\anaconda3\\lib\\site-packages\\sklearn\\impute\\_iterative.py:685: ConvergenceWarning: [IterativeImputer] Early stopping criterion not reached.\n",
      "  warnings.warn(\"[IterativeImputer] Early stopping criterion not\"\n"
     ]
    },
    {
     "name": "stdout",
     "output_type": "stream",
     "text": [
      "[IterativeImputer] Completing matrix with shape (1000000, 5)\n",
      "[IterativeImputer] Ending imputation round 1/10, elapsed time 165.13\n",
      "[IterativeImputer] Change: 17.38463511045456, scaled tolerance: 0.031229363 \n",
      "[IterativeImputer] Ending imputation round 2/10, elapsed time 337.58\n",
      "[IterativeImputer] Change: 5.387937545776367, scaled tolerance: 0.031229363 \n",
      "[IterativeImputer] Ending imputation round 3/10, elapsed time 527.44\n",
      "[IterativeImputer] Change: 6.838773488998413, scaled tolerance: 0.031229363 \n",
      "[IterativeImputer] Ending imputation round 4/10, elapsed time 691.17\n",
      "[IterativeImputer] Change: 4.855335712432861, scaled tolerance: 0.031229363 \n",
      "[IterativeImputer] Ending imputation round 5/10, elapsed time 854.13\n",
      "[IterativeImputer] Change: 4.342129349708557, scaled tolerance: 0.031229363 \n",
      "[IterativeImputer] Ending imputation round 6/10, elapsed time 1017.18\n",
      "[IterativeImputer] Change: 4.62275767326355, scaled tolerance: 0.031229363 \n",
      "[IterativeImputer] Ending imputation round 7/10, elapsed time 1180.69\n",
      "[IterativeImputer] Change: 4.110983610153198, scaled tolerance: 0.031229363 \n",
      "[IterativeImputer] Ending imputation round 8/10, elapsed time 1343.92\n",
      "[IterativeImputer] Change: 5.297634720802307, scaled tolerance: 0.031229363 \n",
      "[IterativeImputer] Ending imputation round 9/10, elapsed time 1506.82\n",
      "[IterativeImputer] Change: 5.8039151430130005, scaled tolerance: 0.031229363 \n",
      "[IterativeImputer] Ending imputation round 10/10, elapsed time 1670.28\n",
      "[IterativeImputer] Change: 4.3876588344573975, scaled tolerance: 0.031229363 \n"
     ]
    },
    {
     "name": "stderr",
     "output_type": "stream",
     "text": [
      "C:\\Users\\brieu\\anaconda3\\lib\\site-packages\\sklearn\\impute\\_iterative.py:685: ConvergenceWarning: [IterativeImputer] Early stopping criterion not reached.\n",
      "  warnings.warn(\"[IterativeImputer] Early stopping criterion not\"\n"
     ]
    },
    {
     "name": "stdout",
     "output_type": "stream",
     "text": [
      "[IterativeImputer] Completing matrix with shape (1000000, 4)\n",
      "[IterativeImputer] Ending imputation round 1/10, elapsed time 120.89\n",
      "[IterativeImputer] Change: 16.031745095806123, scaled tolerance: 0.031229363 \n",
      "[IterativeImputer] Ending imputation round 2/10, elapsed time 242.02\n",
      "[IterativeImputer] Change: 4.190598487854004, scaled tolerance: 0.031229363 \n",
      "[IterativeImputer] Ending imputation round 3/10, elapsed time 363.32\n",
      "[IterativeImputer] Change: 5.21681547164917, scaled tolerance: 0.031229363 \n",
      "[IterativeImputer] Ending imputation round 4/10, elapsed time 484.44\n",
      "[IterativeImputer] Change: 3.6437877416610718, scaled tolerance: 0.031229363 \n",
      "[IterativeImputer] Ending imputation round 5/10, elapsed time 605.44\n",
      "[IterativeImputer] Change: 4.174056053161621, scaled tolerance: 0.031229363 \n",
      "[IterativeImputer] Ending imputation round 6/10, elapsed time 726.72\n",
      "[IterativeImputer] Change: 3.6356008052825928, scaled tolerance: 0.031229363 \n",
      "[IterativeImputer] Ending imputation round 7/10, elapsed time 848.10\n",
      "[IterativeImputer] Change: 3.8638088703155518, scaled tolerance: 0.031229363 \n",
      "[IterativeImputer] Ending imputation round 8/10, elapsed time 969.60\n",
      "[IterativeImputer] Change: 3.6052170991897583, scaled tolerance: 0.031229363 \n",
      "[IterativeImputer] Ending imputation round 9/10, elapsed time 1090.63\n",
      "[IterativeImputer] Change: 5.476512432098389, scaled tolerance: 0.031229363 \n",
      "[IterativeImputer] Ending imputation round 10/10, elapsed time 1211.76\n",
      "[IterativeImputer] Change: 7.308991432189941, scaled tolerance: 0.031229363 \n"
     ]
    },
    {
     "name": "stderr",
     "output_type": "stream",
     "text": [
      "C:\\Users\\brieu\\anaconda3\\lib\\site-packages\\sklearn\\impute\\_iterative.py:685: ConvergenceWarning: [IterativeImputer] Early stopping criterion not reached.\n",
      "  warnings.warn(\"[IterativeImputer] Early stopping criterion not\"\n"
     ]
    },
    {
     "name": "stdout",
     "output_type": "stream",
     "text": [
      "[IterativeImputer] Completing matrix with shape (1000000, 5)\n",
      "[IterativeImputer] Ending imputation round 1/10, elapsed time 158.46\n",
      "[IterativeImputer] Change: 8.064116589578068, scaled tolerance: 0.012878366 \n",
      "[IterativeImputer] Ending imputation round 2/10, elapsed time 317.22\n",
      "[IterativeImputer] Change: 2.6157937049865723, scaled tolerance: 0.012878366 \n",
      "[IterativeImputer] Ending imputation round 3/10, elapsed time 476.69\n",
      "[IterativeImputer] Change: 2.112664669752121, scaled tolerance: 0.012878366 \n",
      "[IterativeImputer] Ending imputation round 4/10, elapsed time 635.62\n",
      "[IterativeImputer] Change: 3.8077162504196167, scaled tolerance: 0.012878366 \n",
      "[IterativeImputer] Ending imputation round 5/10, elapsed time 794.05\n",
      "[IterativeImputer] Change: 2.695107936859131, scaled tolerance: 0.012878366 \n",
      "[IterativeImputer] Ending imputation round 6/10, elapsed time 952.78\n",
      "[IterativeImputer] Change: 2.4892501831054688, scaled tolerance: 0.012878366 \n",
      "[IterativeImputer] Ending imputation round 7/10, elapsed time 1136.48\n",
      "[IterativeImputer] Change: 2.954526960849762, scaled tolerance: 0.012878366 \n",
      "[IterativeImputer] Ending imputation round 8/10, elapsed time 1310.02\n",
      "[IterativeImputer] Change: 2.217616379261017, scaled tolerance: 0.012878366 \n",
      "[IterativeImputer] Ending imputation round 9/10, elapsed time 1469.60\n",
      "[IterativeImputer] Change: 2.203954964876175, scaled tolerance: 0.012878366 \n",
      "[IterativeImputer] Ending imputation round 10/10, elapsed time 1628.85\n",
      "[IterativeImputer] Change: 3.2437005043029785, scaled tolerance: 0.012878366 \n"
     ]
    },
    {
     "name": "stderr",
     "output_type": "stream",
     "text": [
      "C:\\Users\\brieu\\anaconda3\\lib\\site-packages\\sklearn\\impute\\_iterative.py:685: ConvergenceWarning: [IterativeImputer] Early stopping criterion not reached.\n",
      "  warnings.warn(\"[IterativeImputer] Early stopping criterion not\"\n"
     ]
    },
    {
     "name": "stdout",
     "output_type": "stream",
     "text": [
      "[IterativeImputer] Completing matrix with shape (1000000, 4)\n",
      "[IterativeImputer] Ending imputation round 1/10, elapsed time 120.10\n",
      "[IterativeImputer] Change: 5.0037637225804055, scaled tolerance: 0.012825041 \n",
      "[IterativeImputer] Ending imputation round 2/10, elapsed time 240.18\n",
      "[IterativeImputer] Change: 2.7831006422638893, scaled tolerance: 0.012825041 \n",
      "[IterativeImputer] Ending imputation round 3/10, elapsed time 360.08\n",
      "[IterativeImputer] Change: 2.038003832101822, scaled tolerance: 0.012825041 \n",
      "[IterativeImputer] Ending imputation round 4/10, elapsed time 480.04\n",
      "[IterativeImputer] Change: 1.8406187295913696, scaled tolerance: 0.012825041 \n",
      "[IterativeImputer] Ending imputation round 5/10, elapsed time 600.36\n",
      "[IterativeImputer] Change: 3.1982247829437256, scaled tolerance: 0.012825041 \n",
      "[IterativeImputer] Ending imputation round 6/10, elapsed time 720.99\n",
      "[IterativeImputer] Change: 2.424047838896513, scaled tolerance: 0.012825041 \n",
      "[IterativeImputer] Ending imputation round 7/10, elapsed time 841.17\n",
      "[IterativeImputer] Change: 3.0198692195117474, scaled tolerance: 0.012825041 \n",
      "[IterativeImputer] Ending imputation round 8/10, elapsed time 962.18\n",
      "[IterativeImputer] Change: 2.716027647256851, scaled tolerance: 0.012825041 \n",
      "[IterativeImputer] Ending imputation round 9/10, elapsed time 1082.96\n",
      "[IterativeImputer] Change: 2.331287682056427, scaled tolerance: 0.012825041 \n",
      "[IterativeImputer] Ending imputation round 10/10, elapsed time 1203.25\n",
      "[IterativeImputer] Change: 2.514005661010742, scaled tolerance: 0.012825041 \n"
     ]
    },
    {
     "name": "stderr",
     "output_type": "stream",
     "text": [
      "C:\\Users\\brieu\\anaconda3\\lib\\site-packages\\sklearn\\impute\\_iterative.py:685: ConvergenceWarning: [IterativeImputer] Early stopping criterion not reached.\n",
      "  warnings.warn(\"[IterativeImputer] Early stopping criterion not\"\n"
     ]
    },
    {
     "name": "stdout",
     "output_type": "stream",
     "text": [
      "[IterativeImputer] Completing matrix with shape (1000000, 6)\n",
      "[IterativeImputer] Ending imputation round 1/10, elapsed time 328.33\n",
      "[IterativeImputer] Change: 19.28039060060501, scaled tolerance: 0.031229363 \n",
      "[IterativeImputer] Ending imputation round 2/10, elapsed time 657.76\n",
      "[IterativeImputer] Change: 3.8193209171295166, scaled tolerance: 0.031229363 \n",
      "[IterativeImputer] Ending imputation round 3/10, elapsed time 988.08\n",
      "[IterativeImputer] Change: 3.891091823577881, scaled tolerance: 0.031229363 \n",
      "[IterativeImputer] Ending imputation round 4/10, elapsed time 1317.71\n",
      "[IterativeImputer] Change: 2.881566882133484, scaled tolerance: 0.031229363 \n",
      "[IterativeImputer] Ending imputation round 5/10, elapsed time 1648.38\n",
      "[IterativeImputer] Change: 3.349595308303833, scaled tolerance: 0.031229363 \n",
      "[IterativeImputer] Ending imputation round 6/10, elapsed time 1998.41\n",
      "[IterativeImputer] Change: 2.903921127319336, scaled tolerance: 0.031229363 \n",
      "[IterativeImputer] Ending imputation round 7/10, elapsed time 2328.60\n",
      "[IterativeImputer] Change: 4.779566287994385, scaled tolerance: 0.031229363 \n",
      "[IterativeImputer] Ending imputation round 8/10, elapsed time 2658.72\n",
      "[IterativeImputer] Change: 3.204681396484375, scaled tolerance: 0.031229363 \n",
      "[IterativeImputer] Ending imputation round 9/10, elapsed time 2988.80\n",
      "[IterativeImputer] Change: 3.6728277504444122, scaled tolerance: 0.031229363 \n",
      "[IterativeImputer] Ending imputation round 10/10, elapsed time 3318.37\n",
      "[IterativeImputer] Change: 3.539767399430275, scaled tolerance: 0.031229363 \n"
     ]
    },
    {
     "name": "stderr",
     "output_type": "stream",
     "text": [
      "C:\\Users\\brieu\\anaconda3\\lib\\site-packages\\sklearn\\impute\\_iterative.py:685: ConvergenceWarning: [IterativeImputer] Early stopping criterion not reached.\n",
      "  warnings.warn(\"[IterativeImputer] Early stopping criterion not\"\n"
     ]
    },
    {
     "name": "stdout",
     "output_type": "stream",
     "text": [
      "[IterativeImputer] Completing matrix with shape (1000000, 4)\n",
      "[IterativeImputer] Ending imputation round 1/10, elapsed time 120.94\n",
      "[IterativeImputer] Change: 14.776416047997365, scaled tolerance: 0.031229363 \n",
      "[IterativeImputer] Ending imputation round 2/10, elapsed time 242.02\n",
      "[IterativeImputer] Change: 5.7757813930511475, scaled tolerance: 0.031229363 \n",
      "[IterativeImputer] Ending imputation round 3/10, elapsed time 363.45\n",
      "[IterativeImputer] Change: 4.668995380401611, scaled tolerance: 0.031229363 \n",
      "[IterativeImputer] Ending imputation round 4/10, elapsed time 484.93\n",
      "[IterativeImputer] Change: 4.749413371086121, scaled tolerance: 0.031229363 \n",
      "[IterativeImputer] Ending imputation round 5/10, elapsed time 607.16\n",
      "[IterativeImputer] Change: 4.158445835113525, scaled tolerance: 0.031229363 \n",
      "[IterativeImputer] Ending imputation round 6/10, elapsed time 728.97\n",
      "[IterativeImputer] Change: 3.4440607726573944, scaled tolerance: 0.031229363 \n",
      "[IterativeImputer] Ending imputation round 7/10, elapsed time 850.67\n",
      "[IterativeImputer] Change: 4.691371589899063, scaled tolerance: 0.031229363 \n",
      "[IterativeImputer] Ending imputation round 8/10, elapsed time 972.04\n",
      "[IterativeImputer] Change: 6.487533211708069, scaled tolerance: 0.031229363 \n",
      "[IterativeImputer] Ending imputation round 9/10, elapsed time 1093.81\n",
      "[IterativeImputer] Change: 3.892472743988037, scaled tolerance: 0.031229363 \n",
      "[IterativeImputer] Ending imputation round 10/10, elapsed time 1215.26\n",
      "[IterativeImputer] Change: 4.436362981796265, scaled tolerance: 0.031229363 \n"
     ]
    },
    {
     "name": "stderr",
     "output_type": "stream",
     "text": [
      "C:\\Users\\brieu\\anaconda3\\lib\\site-packages\\sklearn\\impute\\_iterative.py:685: ConvergenceWarning: [IterativeImputer] Early stopping criterion not reached.\n",
      "  warnings.warn(\"[IterativeImputer] Early stopping criterion not\"\n"
     ]
    },
    {
     "name": "stdout",
     "output_type": "stream",
     "text": [
      "[IterativeImputer] Completing matrix with shape (1000000, 5)\n",
      "[IterativeImputer] Ending imputation round 1/10, elapsed time 164.07\n",
      "[IterativeImputer] Change: 19.391655783100127, scaled tolerance: 0.031229363 \n",
      "[IterativeImputer] Ending imputation round 2/10, elapsed time 329.73\n",
      "[IterativeImputer] Change: 4.271142601966858, scaled tolerance: 0.031229363 \n",
      "[IterativeImputer] Ending imputation round 3/10, elapsed time 494.18\n",
      "[IterativeImputer] Change: 3.776063919067383, scaled tolerance: 0.031229363 \n",
      "[IterativeImputer] Ending imputation round 4/10, elapsed time 658.70\n",
      "[IterativeImputer] Change: 4.487439155578613, scaled tolerance: 0.031229363 \n",
      "[IterativeImputer] Ending imputation round 5/10, elapsed time 823.78\n",
      "[IterativeImputer] Change: 3.559762954711914, scaled tolerance: 0.031229363 \n",
      "[IterativeImputer] Ending imputation round 6/10, elapsed time 1023.71\n",
      "[IterativeImputer] Change: 3.6810138821601868, scaled tolerance: 0.031229363 \n",
      "[IterativeImputer] Ending imputation round 7/10, elapsed time 1194.34\n",
      "[IterativeImputer] Change: 4.170524597167969, scaled tolerance: 0.031229363 \n",
      "[IterativeImputer] Ending imputation round 8/10, elapsed time 1359.02\n",
      "[IterativeImputer] Change: 4.936835289001465, scaled tolerance: 0.031229363 \n",
      "[IterativeImputer] Ending imputation round 9/10, elapsed time 1524.19\n",
      "[IterativeImputer] Change: 3.2580909729003906, scaled tolerance: 0.031229363 \n",
      "[IterativeImputer] Ending imputation round 10/10, elapsed time 1689.27\n",
      "[IterativeImputer] Change: 3.7554659843444824, scaled tolerance: 0.031229363 \n"
     ]
    },
    {
     "name": "stderr",
     "output_type": "stream",
     "text": [
      "C:\\Users\\brieu\\anaconda3\\lib\\site-packages\\sklearn\\impute\\_iterative.py:685: ConvergenceWarning: [IterativeImputer] Early stopping criterion not reached.\n",
      "  warnings.warn(\"[IterativeImputer] Early stopping criterion not\"\n"
     ]
    },
    {
     "name": "stdout",
     "output_type": "stream",
     "text": [
      "[IterativeImputer] Completing matrix with shape (1000000, 4)\n",
      "[IterativeImputer] Ending imputation round 1/10, elapsed time 121.81\n",
      "[IterativeImputer] Change: 16.38812174375534, scaled tolerance: 0.031229363 \n",
      "[IterativeImputer] Ending imputation round 2/10, elapsed time 243.90\n",
      "[IterativeImputer] Change: 3.9543861150741577, scaled tolerance: 0.031229363 \n",
      "[IterativeImputer] Ending imputation round 3/10, elapsed time 366.30\n",
      "[IterativeImputer] Change: 4.53106689453125, scaled tolerance: 0.031229363 \n",
      "[IterativeImputer] Ending imputation round 4/10, elapsed time 488.87\n",
      "[IterativeImputer] Change: 3.840262293815613, scaled tolerance: 0.031229363 \n",
      "[IterativeImputer] Ending imputation round 5/10, elapsed time 611.13\n",
      "[IterativeImputer] Change: 4.776745796203613, scaled tolerance: 0.031229363 \n",
      "[IterativeImputer] Ending imputation round 6/10, elapsed time 733.73\n",
      "[IterativeImputer] Change: 3.8695430159568787, scaled tolerance: 0.031229363 \n",
      "[IterativeImputer] Ending imputation round 7/10, elapsed time 856.06\n",
      "[IterativeImputer] Change: 3.6939059495925903, scaled tolerance: 0.031229363 \n",
      "[IterativeImputer] Ending imputation round 8/10, elapsed time 978.71\n",
      "[IterativeImputer] Change: 4.243970632553101, scaled tolerance: 0.031229363 \n",
      "[IterativeImputer] Ending imputation round 9/10, elapsed time 1101.08\n",
      "[IterativeImputer] Change: 3.987194299697876, scaled tolerance: 0.031229363 \n",
      "[IterativeImputer] Ending imputation round 10/10, elapsed time 1222.89\n",
      "[IterativeImputer] Change: 4.258100271224976, scaled tolerance: 0.031229363 \n"
     ]
    },
    {
     "name": "stderr",
     "output_type": "stream",
     "text": [
      "C:\\Users\\brieu\\anaconda3\\lib\\site-packages\\sklearn\\impute\\_iterative.py:685: ConvergenceWarning: [IterativeImputer] Early stopping criterion not reached.\n",
      "  warnings.warn(\"[IterativeImputer] Early stopping criterion not\"\n"
     ]
    },
    {
     "data": {
      "text/plain": [
       "array([[ 3.744152e+00,  6.206995e+00,  3.809505e+00,  1.182055e+00],\n",
       "       [-2.895826e+00,  5.232157e+00, -4.218259e+00, -6.377500e-02],\n",
       "       [ 2.252834e+00, -1.164570e-01, -2.131747e+00, -1.315760e-01],\n",
       "       ...,\n",
       "       [ 2.891854e+00,  3.609790e+00, -5.841080e-01, -9.975020e-01],\n",
       "       [-1.135003e+00,  8.462660e-01, -1.085554e+00,  4.831000e-03],\n",
       "       [ 1.079820e+00, -2.448386e+00,  2.334131e+00, -8.288470e-01]])"
      ]
     },
     "execution_count": 9,
     "metadata": {},
     "output_type": "execute_result"
    }
   ],
   "source": [
    "fill_column(\"F_4_0\",select_column(\"F_4_0\",0.15))\n",
    "fill_column(\"F_4_1\",select_column(\"F_4_1\",0.15))\n",
    "fill_column(\"F_4_2\",select_column(\"F_4_2\",0.12))\n",
    "fill_column(\"F_4_3\",select_column(\"F_4_3\",0.15))\n",
    "fill_column(\"F_4_4\",select_column(\"F_4_4\",0.15))\n",
    "fill_column(\"F_4_5\",select_column(\"F_4_5\",0.15))\n",
    "fill_column(\"F_4_6\",select_column(\"F_4_6\",0.12))\n",
    "fill_column(\"F_4_7\",select_column(\"F_4_7\",0.12))\n",
    "fill_column(\"F_4_8\",select_column(\"F_4_8\",0.15))\n",
    "fill_column(\"F_4_9\",select_column(\"F_4_9\",0.12))\n",
    "fill_column(\"F_4_10\",select_column(\"F_4_10\",0.12))\n",
    "fill_column(\"F_4_11\",select_column(\"F_4_11\",0.3))\n",
    "fill_column(\"F_4_12\",select_column(\"F_4_12\",0.2))\n",
    "fill_column(\"F_4_13\",select_column(\"F_4_13\",0.12))\n",
    "fill_column(\"F_4_14\",select_column(\"F_4_14\",0.15))\n",
    "\n"
   ]
  },
  {
   "cell_type": "code",
   "execution_count": 10,
   "metadata": {},
   "outputs": [],
   "source": [
    "for i in range(15):\n",
    "    data[\"F_4_\"+str(i)] = listeF_4content[i]"
   ]
  },
  {
   "cell_type": "code",
   "execution_count": 11,
   "metadata": {},
   "outputs": [
    {
     "name": "stderr",
     "output_type": "stream",
     "text": [
      "100%|█████████████████████████████████████████████████████████████████████| 1000000/1000000 [01:15<00:00, 13312.57it/s]\n"
     ]
    }
   ],
   "source": [
    "for i in tqdm(submission.index):\n",
    "    row = int(i.split('-')[0])\n",
    "    col = i.split('-')[1]\n",
    "    submission.loc[i, 'value'] = data.loc[row, col]\n",
    "\n",
    "submission.to_csv('mean_benchmark.csv')"
   ]
  },
  {
   "cell_type": "code",
   "execution_count": null,
   "metadata": {},
   "outputs": [],
   "source": []
  },
  {
   "cell_type": "code",
   "execution_count": null,
   "metadata": {},
   "outputs": [],
   "source": []
  }
 ],
 "metadata": {
  "kernelspec": {
   "display_name": "Python 3 (ipykernel)",
   "language": "python",
   "name": "python3"
  },
  "language_info": {
   "codemirror_mode": {
    "name": "ipython",
    "version": 3
   },
   "file_extension": ".py",
   "mimetype": "text/x-python",
   "name": "python",
   "nbconvert_exporter": "python",
   "pygments_lexer": "ipython3",
   "version": "3.9.12"
  }
 },
 "nbformat": 4,
 "nbformat_minor": 4
}
